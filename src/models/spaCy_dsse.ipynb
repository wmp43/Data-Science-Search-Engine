{
 "cells": [
  {
   "cell_type": "code",
   "execution_count": 2,
   "id": "42c4819a-1049-4775-81b1-29c3737202f8",
   "metadata": {
    "ExecuteTime": {
     "end_time": "2024-01-05T05:16:37.352663Z",
     "start_time": "2024-01-05T05:16:37.020064Z"
    }
   },
   "outputs": [
    {
     "name": "stdout",
     "output_type": "stream",
     "text": [
      "[1, 2, 'statistics']\n",
      "[7, 9, 'Gaussian distribution']\n",
      "[13, 16, 'continuous probability distribution']\n"
     ]
    }
   ],
   "source": [
    "import spacy\n",
    "from spacy.matcher import PhraseMatcher\n",
    "\n",
    "nlp = spacy.load(\"en_core_web_sm\")\n",
    "matcher = PhraseMatcher(nlp.vocab)\n",
    "terms = [\"statistics\", \"continuous probability distribution\", \"Gaussian distribution\", \"non mention\"]\n",
    "# Only run nlp.make_doc to speed things up\n",
    "patterns = [nlp.make_doc(text) for text in terms]\n",
    "matcher.add(\"TerminologyList\", patterns)\n",
    "\n",
    "doc = nlp(\"In statistics, a normal distribution or Gaussian distribution is a type of continuous probability distribution for a real-valued random variable. The general form of its probability density function is\")\n",
    "matches = matcher(doc)\n",
    "for match_id, start, end in matches:\n",
    "    span = doc[start:end]\n",
    "    print([start, end, span.text])"
   ]
  },
  {
   "cell_type": "code",
   "execution_count": 5,
   "id": "8296a29f-7d65-45d2-8a95-24d5784afd6e",
   "metadata": {
    "ExecuteTime": {
     "end_time": "2024-01-08T20:43:03.925873Z",
     "start_time": "2024-01-08T20:43:03.503486Z"
    }
   },
   "outputs": [
    {
     "name": "stdout",
     "output_type": "stream",
     "text": [
      "Invalid span in Doc' distribution' in 'In the case σ > 0 ,  convergence in distribution means that the cumulative distribution functions of n ( X ¯ n − μ )  converge pointwise to the cdf of the N ( 0 , σ 2 )  distribution: for every real number z ,  where Φ ( z )  is the standard normal cdf evaluated at z .   The convergence is uniform in z  in the sense that where sup  denotes the least upper bound (or supremum) of the set.'\n",
      "[]\n"
     ]
    }
   ],
   "source": [
    "import spacy\n",
    "from spacy.tokens import DocBin\n",
    "\n",
    "nlp = spacy.blank(\"en\")  # Replace \"en\" with your model's language if different\n",
    "doc_bin = DocBin().from_disk(\"/Users/owner/myles-personal-env/Projects/wikiSearch/src/models/test.spacy\")  # Replace with your .spacy file path\n",
    "for doc in doc_bin.get_docs(nlp.vocab):\n",
    "    for ent in doc.ents:\n",
    "        if ent.text.startswith(\" \") or ent.text.endswith(\" \"):\n",
    "            print(f\"Invalid span in Doc'{ent.text}' in '{doc}'\")\n",
    "\n",
    "\n",
    "doc = nlp(\"Apple is opening its first big office in San Francisco.\")\n",
    "print([(ent.text, ent.label_) for ent in doc.ents])"
   ]
  },
  {
   "cell_type": "code",
   "execution_count": 8,
   "id": "40e64c6f-8dbc-47e7-a3d5-4befb36dd807",
   "metadata": {},
   "outputs": [
    {
     "name": "stdout",
     "output_type": "stream",
     "text": [
      "[('MyCorp Inc.', 'ORG'), ('U.S.', 'GPE')]\n"
     ]
    }
   ],
   "source": [
    "import spacy\n",
    "\n",
    "nlp = spacy.load(\"en_core_web_sm\")\n",
    "ruler = nlp.add_pipe(\"entity_ruler\")\n",
    "patterns = [{\"label\": \"ORG\", \"pattern\": \"MyCorp Inc.\"}]\n",
    "ruler.add_patterns(patterns)\n",
    "\n",
    "doc = nlp(\"MyCorp Inc. is a company in the U.S.\")\n",
    "print([(ent.text, ent.label_) for ent in doc.ents])"
   ]
  },
  {
   "cell_type": "code",
   "execution_count": 10,
   "id": "2ac32ab3-2231-451b-8a86-a6ffaac72c1a",
   "metadata": {},
   "outputs": [
    {
     "name": "stdout",
     "output_type": "stream",
     "text": [
      "doc1 [('Apple', 'ORG', 'apple'), ('San Francisco', 'GPE', 'san-francisco')]\n",
      "doc2 [('Apple', 'ORG', 'apple'), ('San Fran', 'GPE', 'san-francisco')]\n"
     ]
    }
   ],
   "source": [
    "from spacy.lang.en import English\n",
    "\n",
    "# This is what will be used for string literal ner matching\n",
    "# Money bag\n",
    "\n",
    "nlp = English()\n",
    "ruler = nlp.add_pipe(\"entity_ruler\")\n",
    "patterns = [{\"label\": \"ORG\", \"pattern\": \"Apple\", \"id\": \"apple\"},\n",
    "            {\"label\": \"GPE\", \"pattern\": [{\"LOWER\": \"san\"}, {\"LOWER\": \"francisco\"}], \"id\": \"san-francisco\"},\n",
    "            {\"label\": \"GPE\", \"pattern\": [{\"LOWER\": \"san\"}, {\"LOWER\": \"fran\"}], \"id\": \"san-francisco\"}]\n",
    "ruler.add_patterns(patterns)\n",
    "\n",
    "doc1 = nlp(\"Apple is opening its first big office in San Francisco.\")\n",
    "print('doc1', [(ent.text, ent.label_, ent.ent_id_) for ent in doc1.ents])\n",
    "\n",
    "doc2 = nlp(\"Apple is opening its first big office in San Fran.\")\n",
    "print('doc2', [(ent.text, ent.label_, ent.ent_id_) for ent in doc2.ents])"
   ]
  },
  {
   "cell_type": "code",
   "execution_count": null,
   "id": "51643a00-e9bb-4765-8ade-38896313c88e",
   "metadata": {},
   "outputs": [],
   "source": []
  }
 ],
 "metadata": {
  "kernelspec": {
   "display_name": "Python 3 (ipykernel)",
   "language": "python",
   "name": "python3"
  },
  "language_info": {
   "codemirror_mode": {
    "name": "ipython",
    "version": 3
   },
   "file_extension": ".py",
   "mimetype": "text/x-python",
   "name": "python",
   "nbconvert_exporter": "python",
   "pygments_lexer": "ipython3",
   "version": "3.10.13"
  }
 },
 "nbformat": 4,
 "nbformat_minor": 5
}
