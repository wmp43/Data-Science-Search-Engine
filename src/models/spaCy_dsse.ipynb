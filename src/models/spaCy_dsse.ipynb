{
 "cells": [
  {
   "cell_type": "code",
   "execution_count": 6,
   "id": "42c4819a-1049-4775-81b1-29c3737202f8",
   "metadata": {
    "ExecuteTime": {
     "end_time": "2024-01-08T22:10:59.249784Z",
     "start_time": "2024-01-08T22:10:58.526989Z"
    }
   },
   "outputs": [
    {
     "name": "stdout",
     "output_type": "stream",
     "text": [
      "Invalid span in Doc 'In the case σ > 0 ,  convergence in distribution means that the cumulative distribution functions of n ( X ¯ n − μ )  converge pointwise to the cdf of the N ( 0 , σ 2 )  distribution: for every real number z ,  where Φ ( z )  is the standard normal cdf evaluated at z .   The convergence is uniform in z  in the sense that where sup  denotes the least upper bound (or supremum) of the set.': ' distribution'\n"
     ]
    }
   ],
   "source": [
    "import spacy\n",
    "from spacy.tokens import DocBin\n",
    "\n",
    "nlp = spacy.blank(\"en\")  # or your model's language\n",
    "doc_bin = DocBin().from_disk(\"/Users/owner/myles-personal-env/Projects/wikiSearch/src/models/test.spacy\")\n",
    "for doc in doc_bin.get_docs(nlp.vocab):\n",
    "    for ent in doc.ents:\n",
    "        if ent.text.startswith(\" \") or ent.text.endswith(\" \"):\n",
    "            print(f\"Invalid span in Doc '{doc}': '{ent.text}'\")"
   ]
  },
  {
   "cell_type": "code",
   "execution_count": 7,
   "id": "8296a29f-7d65-45d2-8a95-24d5784afd6e",
   "metadata": {
    "ExecuteTime": {
     "end_time": "2024-01-08T22:19:14.575604Z",
     "start_time": "2024-01-08T22:19:11.629854Z"
    }
   },
   "outputs": [
    {
     "name": "stdout",
     "output_type": "stream",
     "text": [
      "Connected to the database dsse_test_1 successfully!\n",
      "['title', 'text', 'label', 'section', 'id']\n"
     ]
    }
   ],
   "source": [
    "from src.relational import ArticlesTable\n",
    "from config import rds_host, rds_port, rds_user, rds_dbname, rds_password\n",
    "# Load up pandas table, edit the label column to remove trailing or leading white space\n",
    "emb_df = ArticlesTable(rds_dbname, rds_user, rds_password, rds_host, rds_port)\n",
    "art_df = emb_df.get_all_data_pd()"
   ]
  },
  {
   "cell_type": "code",
   "execution_count": 12,
   "id": "40e64c6f-8dbc-47e7-a3d5-4befb36dd807",
   "metadata": {
    "ExecuteTime": {
     "end_time": "2024-01-08T22:24:09.345703Z",
     "start_time": "2024-01-08T22:24:09.321044Z"
    }
   },
   "outputs": [],
   "source": [
    "\n",
    "\n"
   ]
  },
  {
   "cell_type": "code",
   "execution_count": 5,
   "id": "2ac32ab3-2231-451b-8a86-a6ffaac72c1a",
   "metadata": {
    "ExecuteTime": {
     "end_time": "2024-01-08T22:10:43.428834Z",
     "start_time": "2024-01-08T22:10:43.425202Z"
    }
   },
   "outputs": [],
   "source": []
  },
  {
   "cell_type": "code",
   "execution_count": null,
   "id": "51643a00-e9bb-4765-8ade-38896313c88e",
   "metadata": {},
   "outputs": [],
   "source": []
  }
 ],
 "metadata": {
  "kernelspec": {
   "display_name": "Python 3 (ipykernel)",
   "language": "python",
   "name": "python3"
  },
  "language_info": {
   "codemirror_mode": {
    "name": "ipython",
    "version": 3
   },
   "file_extension": ".py",
   "mimetype": "text/x-python",
   "name": "python",
   "nbconvert_exporter": "python",
   "pygments_lexer": "ipython3",
   "version": "3.10.13"
  }
 },
 "nbformat": 4,
 "nbformat_minor": 5
}
