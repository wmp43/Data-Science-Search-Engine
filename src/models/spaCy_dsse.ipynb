{
 "cells": [
  {
   "cell_type": "code",
   "execution_count": 6,
   "id": "42c4819a-1049-4775-81b1-29c3737202f8",
   "metadata": {
    "ExecuteTime": {
     "end_time": "2024-01-08T22:10:59.249784Z",
     "start_time": "2024-01-08T22:10:58.526989Z"
    }
   },
   "outputs": [
    {
     "name": "stdout",
     "output_type": "stream",
     "text": [
      "Invalid span in Doc 'In the case σ > 0 ,  convergence in distribution means that the cumulative distribution functions of n ( X ¯ n − μ )  converge pointwise to the cdf of the N ( 0 , σ 2 )  distribution: for every real number z ,  where Φ ( z )  is the standard normal cdf evaluated at z .   The convergence is uniform in z  in the sense that where sup  denotes the least upper bound (or supremum) of the set.': ' distribution'\n"
     ]
    }
   ],
   "source": [
    "import spacy\n",
    "from spacy.tokens import DocBin\n",
    "\n",
    "nlp = spacy.blank(\"en\")  # or your model's language\n",
    "doc_bin = DocBin().from_disk(\"/Users/owner/myles-personal-env/Projects/wikiSearch/src/models/test.spacy\")\n",
    "for doc in doc_bin.get_docs(nlp.vocab):\n",
    "    for ent in doc.ents:\n",
    "        if ent.text.startswith(\" \") or ent.text.endswith(\" \"):\n",
    "            print(f\"Invalid span in Doc '{doc}': '{ent.text}'\")"
   ]
  },
  {
   "cell_type": "code",
   "execution_count": 7,
   "id": "8296a29f-7d65-45d2-8a95-24d5784afd6e",
   "metadata": {
    "ExecuteTime": {
     "end_time": "2024-01-08T22:19:14.575604Z",
     "start_time": "2024-01-08T22:19:11.629854Z"
    }
   },
   "outputs": [
    {
     "name": "stdout",
     "output_type": "stream",
     "text": [
      "Connected to the database dsse_test_1 successfully!\n",
      "['title', 'text', 'label', 'section', 'id']\n"
     ]
    }
   ],
   "source": [
    "from src.relational import ArticleTable\n",
    "from config import rds_host, rds_port, rds_user, rds_dbname, rds_password\n",
    "# Load up pandas table, edit the label column to remove trailing or leading white space\n",
    "emb_df = ArticleTable(rds_dbname, rds_user, rds_password, rds_host, rds_port)\n",
    "art_df = emb_df.get_all_data_pd()"
   ]
  },
  {
   "cell_type": "code",
   "execution_count": 16,
   "id": "40e64c6f-8dbc-47e7-a3d5-4befb36dd807",
   "metadata": {
    "ExecuteTime": {
     "end_time": "2024-01-09T00:03:10.286586Z",
     "start_time": "2024-01-09T00:03:09.523241Z"
    }
   },
   "outputs": [
    {
     "data": {
      "text/plain": "<IPython.core.display.HTML object>",
      "text/html": "<span class=\"tex2jax_ignore\"><div class=\"entities\" style=\"line-height: 2.5; direction: ltr\">In 2021, the Nobel Prize in \n<mark class=\"entity\" style=\"background: #4682B4; padding: 0.45em 0.6em; margin: 0 0.25em; line-height: 1; border-radius: 0.35em;\">\n    Physics\n    <span style=\"font-size: 0.8em; font-weight: bold; line-height: 1; border-radius: 0.35em; vertical-align: middle; margin-left: 0.5rem\">Academic Disciplines</span>\n</mark>\n was awarded to Syukuro Manabe, Klaus Hasselmann, and Giorgio Parisi for groundbreaking work on complex physical systems. Meanwhile, SpaceX continued to make headlines with the successful launch of the Crew Dragon spacecraft, captained by astronaut Megan McArthur. On the economic front, the Federal Reserve noted that New York's financial \n<mark class=\"entity\" style=\"background: #778899; padding: 0.45em 0.6em; margin: 0 0.25em; line-height: 1; border-radius: 0.35em;\">\n    sector\n    <span style=\"font-size: 0.8em; font-weight: bold; line-height: 1; border-radius: 0.35em; vertical-align: middle; margin-left: 0.5rem\">Mathematics</span>\n</mark>\n showed signs of recovery following the pandemic, while Silicon Valley's tech giants, like \n<mark class=\"entity\" style=\"background: #FFD700; padding: 0.45em 0.6em; margin: 0 0.25em; line-height: 1; border-radius: 0.35em;\">\n    Google\n    <span style=\"font-size: 0.8em; font-weight: bold; line-height: 1; border-radius: 0.35em; vertical-align: middle; margin-left: 0.5rem\">Organizations</span>\n</mark>\n and Apple, invested heavily in \n<mark class=\"entity\" style=\"background: #20B2AA; padding: 0.45em 0.6em; margin: 0 0.25em; line-height: 1; border-radius: 0.35em;\">\n    artificial intelligence\n    <span style=\"font-size: 0.8em; font-weight: bold; line-height: 1; border-radius: 0.35em; vertical-align: middle; margin-left: 0.5rem\">Machine Learning</span>\n</mark>\n research.</div></span>"
     },
     "metadata": {},
     "output_type": "display_data"
    }
   ],
   "source": [
    "import spacy\n",
    "from spacy import displacy\n",
    "NER_TEST = True\n",
    "if NER_TEST:\n",
    "    ner_model = spacy.load('/Users/owner/myles-personal-env/Projects/wikiSearch/src/models/model-best')\n",
    "    doc = ner_model(\"In 2021, the Nobel Prize in Physics was awarded to Syukuro Manabe, Klaus Hasselmann, and Giorgio Parisi for groundbreaking work on complex physical systems. Meanwhile, SpaceX continued to make headlines with the successful launch of the Crew Dragon spacecraft, captained by astronaut Megan McArthur. On the economic front, the Federal Reserve noted that New York's financial sector showed signs of recovery following the pandemic, while Silicon Valley's tech giants, like Google and Apple, invested heavily in artificial intelligence research.\")\n",
    "    colors = {\n",
    "        \"Probability & Statistics\": \"#FFA07A\",  # Light Salmon\n",
    "        \"Machine Learning\": \"#20B2AA\",  # Light Sea Green\n",
    "        \"Mathematics\": \"#778899\",  # Light Slate Gray\n",
    "        \"Data\": \"#9370DB\",  # Medium Purple\n",
    "        \"Organizations\": \"#FFD700\",  # Gold\n",
    "        \"People\": \"#F08080\",  # Light Coral\n",
    "        \"Programming\": \"#00FA9A\",  # Medium Spring Green\n",
    "        \"Academic Disciplines\": \"#4682B4\"}\n",
    "    options = {\"colors\": colors}\n",
    "\n",
    "    displacy.render(doc, style=\"ent\", options=options, jupyter=True)\n",
    "\n"
   ]
  },
  {
   "cell_type": "code",
   "execution_count": 5,
   "id": "2ac32ab3-2231-451b-8a86-a6ffaac72c1a",
   "metadata": {
    "ExecuteTime": {
     "end_time": "2024-01-08T22:10:43.428834Z",
     "start_time": "2024-01-08T22:10:43.425202Z"
    }
   },
   "outputs": [],
   "source": []
  },
  {
   "cell_type": "code",
   "execution_count": null,
   "id": "51643a00-e9bb-4765-8ade-38896313c88e",
   "metadata": {},
   "outputs": [],
   "source": []
  }
 ],
 "metadata": {
  "kernelspec": {
   "display_name": "Python 3 (ipykernel)",
   "language": "python",
   "name": "python3"
  },
  "language_info": {
   "codemirror_mode": {
    "name": "ipython",
    "version": 3
   },
   "file_extension": ".py",
   "mimetype": "text/x-python",
   "name": "python",
   "nbconvert_exporter": "python",
   "pygments_lexer": "ipython3",
   "version": "3.10.13"
  }
 },
 "nbformat": 4,
 "nbformat_minor": 5
}
